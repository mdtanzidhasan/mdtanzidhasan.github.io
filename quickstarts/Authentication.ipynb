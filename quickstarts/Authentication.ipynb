{
  "cells": [
    {
      "cell_type": "markdown",
      "metadata": {
        "id": "Tce3stUlHN0L"
      },
      "source": [
        "##### Copyright 2025 Google LLC."
      ]
    },
    {
      "cell_type": "code",
      "execution_count": null,
      "metadata": {
        "cellView": "form",
        "id": "tuOe1ymfHZPu"
      },
      "outputs": [],
      "source": [
        "# @title Licensed under the Apache License, Version 2.0 (the \"License\");\n",
        "# you may not use this file except in compliance with the License.\n",
        "# You may obtain a copy of the License at\n",
        "#\n",
        "# https://www.apache.org/licenses/LICENSE-2.0\n",
        "#\n",
        "# Unless required by applicable law or agreed to in writing, software\n",
        "# distributed under the License is distributed on an \"AS IS\" BASIS,\n",
        "# WITHOUT WARRANTIES OR CONDITIONS OF ANY KIND, either express or implied.\n",
        "# See the License for the specific language governing permissions and\n",
        "# limitations under the License."
      ]
    },
    {
      "cell_type": "markdown",
      "metadata": {
        "id": "yeadDkMiISin"
      },
      "source": [
        "# Gemini API: Authentication Quickstart"
      ]
    },
    {
      "cell_type": "markdown",
      "metadata": {
        "id": "lEXQ3OwKIa-O"
      },
      "source": [
        "<a target=\"_blank\" href=\"https://colab.research.google.com/github/google-gemini/cookbook/blob/main/quickstarts/Authentication.ipynb\"><img src=\"https://colab.research.google.com/assets/colab-badge.svg\" height=30/></a>"
      ]
    },
    {
      "cell_type": "markdown",
      "metadata": {
        "id": "df1767a3d1cc"
      },
      "source": [
        "The Gemini API uses API keys for authentication. This notebook walks you through creating an API key, and using it with the Python SDK or a command-line tool like `curl`."
      ]
    },
    {
      "cell_type": "markdown",
      "metadata": {
        "id": "mhFKmRmxi5B-"
      },
      "source": [
        "## Create an API key\n",
        "\n",
        "You can [create](https://aistudio.google.com/app/apikey) your API key using Google AI Studio with a single click.  \n",
        "\n",
        "Remember to treat your API key like a password. Don't accidentally save it in a notebook or source file you later commit to GitHub. This notebook shows you two ways you can securely store your API key.\n",
        "\n",
        "* If you're using Google Colab, it's recommended to store your key in Colab Secrets.\n",
        "\n",
        "* If you're using a different development environment (or calling the Gemini API through `cURL` in your terminal), it's recommended to store your key in an [environment variable](https://en.wikipedia.org/wiki/Environment_variable).\n",
        "\n",
        "Let's start with Colab Secrets."
      ]
    },
    {
      "cell_type": "markdown",
      "metadata": {
        "id": "dEoigYI9Jw_K"
      },
      "source": [
        "## Add your key to Colab Secrets\n",
        "\n",
        "Add your API key to the Colab Secrets manager to securely store it.\n",
        "\n",
        "1. Open your Google Colab notebook and click on the 🔑 **Secrets** tab in the left panel.\n",
        "   \n",
        "   <img src=\"https://storage.googleapis.com/generativeai-downloads/images/secrets.jpg\" alt=\"You can find the Secrets tab on the left panel.\" width=50%>\n",
        "\n",
        "2. Create a new secret with the name `GOOGLE_API_KEY`.\n",
        "3. Copy and paste your API key into the `Value` input box of `GOOGLE_API_KEY`.\n",
        "4. Toggle the button on the left to allow all notebooks access to the secret.\n"
      ]
    },
    {
      "cell_type": "markdown",
      "metadata": {
        "id": "jRY1eioF4gUB"
      },
      "source": [
        "## Install the Python SDK"
      ]
    },
    {
      "cell_type": "code",
      "execution_count": 1,
      "metadata": {
        "id": "xuiLSV7amy3P",
        "outputId": "d45339f9-7b4a-4ec2-98e1-ced102a51b8a",
        "colab": {
          "base_uri": "https://localhost:8080/"
        }
      },
      "outputs": [
        {
          "output_type": "stream",
          "name": "stdout",
          "text": [
            "\u001b[?25l   \u001b[90m━━━━━━━━━━━━━━━━━━━━━━━━━━━━━━━━━━━━━━━━\u001b[0m \u001b[32m0.0/168.9 kB\u001b[0m \u001b[31m?\u001b[0m eta \u001b[36m-:--:--\u001b[0m\r\u001b[2K   \u001b[90m━━━━━━━━━━━━━━━━━━━━━━━━━━━━━━━━━━━━━━━━\u001b[0m \u001b[32m168.9/168.9 kB\u001b[0m \u001b[31m11.5 MB/s\u001b[0m eta \u001b[36m0:00:00\u001b[0m\n",
            "\u001b[?25h"
          ]
        }
      ],
      "source": [
        "%pip install -qU 'google-genai>=1.0.0'"
      ]
    },
    {
      "cell_type": "markdown",
      "metadata": {
        "id": "3dw8ygh74mVc"
      },
      "source": [
        "## Configure the SDK with your API key\n",
        "\n",
        "You create a client using your API key, but instead of pasting your key into the notebook, you'll read it from Colab Secrets thanks to `userdata`."
      ]
    },
    {
      "cell_type": "code",
      "execution_count": 2,
      "metadata": {
        "id": "DTl-qZp34sht"
      },
      "outputs": [],
      "source": [
        "from google import genai\n",
        "from google.colab import userdata\n",
        "\n",
        "GOOGLE_API_KEY = userdata.get('GOOGLE_API_KEY')\n",
        "client = genai.Client(api_key=GOOGLE_API_KEY)"
      ]
    },
    {
      "cell_type": "markdown",
      "metadata": {
        "id": "b7ceb7517bf5"
      },
      "source": [
        "Now choose a model. The Gemini API offers different models that are optimized for specific use cases. For more information check [Gemini models](https://ai.google.dev/gemini-api/docs/models)"
      ]
    },
    {
      "cell_type": "code",
      "execution_count": 3,
      "metadata": {
        "id": "7135d9ae3e4b"
      },
      "outputs": [],
      "source": [
        "MODEL_ID = \"gemini-2.5-flash-preview-04-17\" # @param [\"gemini-2.0-flash-lite\",\"gemini-2.0-flash\",\"gemini-2.5-flash-preview-04-17\",\"gemini-2.5-pro-exp-03-25\"] {\"allow-input\":true, isTemplate: true}"
      ]
    },
    {
      "cell_type": "markdown",
      "metadata": {
        "id": "tr7oAO6-nMsE"
      },
      "source": [
        "And that's it! Now you're ready to call the Gemini API."
      ]
    },
    {
      "cell_type": "code",
      "execution_count": 4,
      "metadata": {
        "id": "n6sXnWrJoKoo",
        "outputId": "bd3d675c-db17-4bb5-fa47-81214a100881",
        "colab": {
          "base_uri": "https://localhost:8080/",
          "height": 1000
        }
      },
      "outputs": [
        {
          "output_type": "display_data",
          "data": {
            "text/plain": [
              "<IPython.core.display.Markdown object>"
            ],
            "text/markdown": "Okay, Python provides very straightforward ways to sort lists using built-in functions and methods. There are two primary ways:\n\n1.  **`list.sort()` method:** This method **sorts the list in-place**, meaning it modifies the original list directly and does not return a new list.\n2.  **`sorted(list)` function:** This function **returns a *new* sorted list**, leaving the original list unchanged.\n\nHere's how you use both:\n\n**1. Using the `list.sort()` method (Sorts in-place)**\n\n```python\n# Original list\nmy_list = [3, 1, 4, 1, 5, 9, 2, 6]\n\nprint(\"Original list:\", my_list)\n\n# Sort the list in-place (ascending order by default)\nmy_list.sort()\n\nprint(\"Sorted list (using sort()):\", my_list)\n\n# Example with strings\nword_list = [\"banana\", \"apple\", \"cherry\", \"date\"]\nprint(\"\\nOriginal word list:\", word_list)\nword_list.sort()\nprint(\"Sorted word list (using sort()):\", word_list)\n```\n\n**Explanation:**\n\n*   `my_list.sort()` modifies `my_list` directly.\n*   It sorts in ascending order by default.\n*   It doesn't return anything (`None`).\n\n**2. Using the `sorted()` function (Returns a new list)**\n\n```python\n# Original list\nmy_list = [3, 1, 4, 1, 5, 9, 2, 6]\n\nprint(\"Original list:\", my_list)\n\n# Get a new sorted list (ascending order by default)\nnew_sorted_list = sorted(my_list)\n\nprint(\"Original list (after using sorted()):\", my_list) # Note: original is unchanged\nprint(\"New sorted list (using sorted()):\", new_sorted_list)\n\n# Example with strings\nword_list = [\"banana\", \"apple\", \"cherry\", \"date\"]\nprint(\"\\nOriginal word list:\", word_list)\nnew_sorted_word_list = sorted(word_list)\nprint(\"Original word list (after using sorted()):\", word_list)\nprint(\"New sorted word list (using sorted()):\", new_sorted_word_list)\n```\n\n**Explanation:**\n\n*   `sorted(my_list)` takes `my_list` as input and returns a *new* list.\n*   The original `my_list` remains unchanged.\n*   It sorts in ascending order by default.\n*   This function can be used on any iterable (like tuples, strings, sets), not just lists, but it *always* returns a list.\n\n---\n\n**Common Sorting Options:**\n\nBoth `list.sort()` and `sorted()` accept optional arguments:\n\n*   `reverse=True`: Sorts the list in descending order.\n*   `key=function`: Specifies a function to be called on each list element prior to making comparisons. This is useful for sorting based on criteria other than the default element value (e.g., sorting strings by length, sorting a list of objects by one of their attributes).\n\n**Examples with Options:**\n\n```python\nmy_list = [3, 1, 4, 1, 5, 9, 2, 6]\n\n# Sorting in descending order using sorted()\nsorted_desc = sorted(my_list, reverse=True)\nprint(\"\\nSorted descending (using sorted()):\", sorted_desc)\n\n# Sorting in descending order using list.sort()\nmy_list_for_desc_sort = [3, 1, 4, 1, 5, 9, 2, 6]\nmy_list_for_desc_sort.sort(reverse=True)\nprint(\"Sorted descending (using sort()):\", my_list_for_desc_sort)\n\n# Sorting strings by length using key=len\nword_list = [\"apple\", \"banana\", \"cherry\", \"date\"]\nsorted_by_length = sorted(word_list, key=len)\nprint(\"\\nSorted by length:\", sorted_by_length)\n\n# Sorting a list of tuples by the second element using a lambda key function\ndata = [(1, 'c'), (3, 'a'), (2, 'b')]\n# The lambda function `lambda item: item[1]` takes an item (a tuple)\n# and returns the element at index 1 ('c', 'a', 'b'), which is used for sorting.\nsorted_by_second_element = sorted(data, key=lambda item: item[1])\nprint(\"Sorted by second element:\", sorted_by_second_element)\n```\n\nIn summary, use `list.sort()` when you want to modify the original list directly and don't need the original order. Use `sorted()` when you want to keep the original list unchanged and get a new sorted copy. Both are highly optimized and efficient for sorting in Python."
          },
          "metadata": {}
        }
      ],
      "source": [
        "from IPython.display import Markdown\n",
        "\n",
        "response = client.models.generate_content(\n",
        "    model=MODEL_ID,\n",
        "    contents=\"Please give me python code to sort a list.\"\n",
        ")\n",
        "\n",
        "display(Markdown(response.text))"
      ]
    },
    {
      "cell_type": "markdown",
      "metadata": {
        "id": "BTdQtZri1Brs"
      },
      "source": [
        "## Store your key in an environment variable"
      ]
    },
    {
      "cell_type": "markdown",
      "metadata": {
        "id": "gZDX51Y27pN4"
      },
      "source": [
        "If you're using a different development environment (or calling the Gemini API through `cURL` in your terminal), it's recommended to store your key in an environment variable.\n",
        "\n",
        "To store your key in an environment variable, open your terminal and run:\n",
        "\n",
        "```export GOOGLE_API_KEY=\"YOUR_API_KEY\"```\n",
        "\n",
        "If you're using Python, you can add these two lines to your notebook to read the key:\n",
        "\n",
        "```\n",
        "import os\n",
        "client = genai.Client(api_key=os.environ['GOOGLE_API_KEY'])\n",
        "```\n",
        "\n",
        "Alternatively, if it isn't provided explicitly, the client will look for the API key.\n",
        "\n",
        "```\n",
        "client = genai.Client()\n",
        "```\n",
        "\n",
        "Or, if you're calling the API through your terminal using `cURL`, you can copy and paste this code to read your key from the environment variable.\n",
        "\n",
        "```\n",
        "curl \"https://generativelanguage.googleapis.com/v1beta/models/gemini-2.0-flash:generateContent?key=$GOOGLE_API_KEY\" \\\n",
        "    -H 'Content-Type: application/json' \\\n",
        "    -X POST \\\n",
        "    -d '{\n",
        "      \"contents\": [{\n",
        "        \"parts\":[{\n",
        "          \"text\": \"Please give me Python code to sort a list.\"\n",
        "        }]\n",
        "      }]\n",
        "    }'\n",
        "```\n"
      ]
    },
    {
      "cell_type": "markdown",
      "metadata": {
        "id": "CAOKOcax1xZY"
      },
      "source": [
        "## Learning more\n",
        "\n",
        "Now that you know how to manage your API key, you've everything to [get started](./Get_started.ipynb) with Gemini. Check all the [quickstart guides](https://github.com/google-gemini/cookbook/tree/main/quickstarts) from the Cookbook, and in particular the [Get started](./Get_started.ipynb) one."
      ]
    }
  ],
  "metadata": {
    "colab": {
      "name": "Authentication.ipynb",
      "provenance": []
    },
    "google": {
      "image_path": "/site-assets/images/share.png",
      "keywords": [
        "examples",
        "googleai",
        "samplecode",
        "python",
        "embed",
        "function"
      ]
    },
    "kernelspec": {
      "display_name": "Python 3",
      "name": "python3"
    }
  },
  "nbformat": 4,
  "nbformat_minor": 0
}